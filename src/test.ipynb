{
 "cells": [
  {
   "cell_type": "code",
   "execution_count": 1,
   "metadata": {},
   "outputs": [],
   "source": [
    "with open('../docs/lecturas/2023_Vanoli&Anapolsky.md', \"r\", encoding=\"utf-8\") as f:\n",
    "    content = f.read().split(\"\\n\") "
   ]
  },
  {
   "cell_type": "code",
   "execution_count": 6,
   "metadata": {},
   "outputs": [],
   "source": [
    "\n",
    "def remove_code_blocks(content: list[str]) -> list[str]:\n",
    "    content_cleaned = []\n",
    "    code_block = False  \n",
    "    for x in content:\n",
    "        # detect code blocks, act accordingly\n",
    "        if x[:3] == '```':\n",
    "            code_block = not code_block\n",
    "        elif not code_block:\n",
    "            content_cleaned.append(x)\n",
    "\n",
    "    return content_cleaned"
   ]
  },
  {
   "cell_type": "code",
   "execution_count": 12,
   "metadata": {},
   "outputs": [],
   "source": [
    "import regex as re\n",
    "\n",
    "def identify_headers(lines: list[str]) -> list[str]:\n",
    "    headers = []\n",
    "    re_hashtag_headers = r\"^#+\\ .*$\"\n",
    "    re_alternative_header_lvl1 = r\"^=+ *$\"\n",
    "    re_alternative_header_lvl2 = r\"^-+ *$\"\n",
    "\n",
    "    for i, line in enumerate(lines): \n",
    "        # identify headers by leading hashtags\n",
    "        if re.search(re_hashtag_headers, line): \n",
    "            headers.append(line)\n",
    "            \n",
    "        # identify alternative headers\n",
    "        elif re.search(re_alternative_header_lvl1, line): \n",
    "            headers.append('# ' + lines[i-1])    # unified h1 format\n",
    "        elif re.search(re_alternative_header_lvl2, line): \n",
    "            headers.append('## ' + lines[i-1])   # unified h2 format\n",
    "            \n",
    "    return headers"
   ]
  },
  {
   "cell_type": "code",
   "execution_count": 13,
   "metadata": {},
   "outputs": [],
   "source": [
    "headers = identify_headers(content)"
   ]
  },
  {
   "cell_type": "code",
   "execution_count": 14,
   "metadata": {},
   "outputs": [
    {
     "data": {
      "text/plain": [
       "['## Litman, T. (2003). Measuring transportation: Traffic, mobility and accessibility. So- cial Research in Transport (SORT) Clearinghouse, 73(10).',\n",
       " '## parent: Lecturas',\n",
       " '## Acceso a Oportunidades en ciudades de América Latina: Metodología para la construcción de indicadores',\n",
       " '### Resumen ',\n",
       " '### Objetivos',\n",
       " '### Ideas principales',\n",
       " '### Metodología',\n",
       " '### Comentarios y observaciones',\n",
       " '### Links de interés ',\n",
       " '### Bibliografía citada en el texto']"
      ]
     },
     "execution_count": 14,
     "metadata": {},
     "output_type": "execute_result"
    }
   ],
   "source": [
    "headers"
   ]
  }
 ],
 "metadata": {
  "kernelspec": {
   "display_name": "Python 3",
   "language": "python",
   "name": "python3"
  },
  "language_info": {
   "codemirror_mode": {
    "name": "ipython",
    "version": 3
   },
   "file_extension": ".py",
   "mimetype": "text/x-python",
   "name": "python",
   "nbconvert_exporter": "python",
   "pygments_lexer": "ipython3",
   "version": "3.10.10"
  },
  "orig_nbformat": 4
 },
 "nbformat": 4,
 "nbformat_minor": 2
}
