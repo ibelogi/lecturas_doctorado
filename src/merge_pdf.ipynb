{
 "cells": [
  {
   "cell_type": "code",
   "execution_count": 1,
   "metadata": {},
   "outputs": [
    {
     "name": "stdout",
     "output_type": "stream",
     "text": [
      "Collecting PyPDF2\n",
      "  Downloading pypdf2-3.0.1-py3-none-any.whl (232 kB)\n",
      "     -------------------------------------- 232.6/232.6 kB 3.5 MB/s eta 0:00:00\n",
      "Requirement already satisfied: typing_extensions>=3.10.0.0 in c:\\users\\ignacio\\appdata\\local\\programs\\python\\python37\\lib\\site-packages (from PyPDF2) (4.6.3)\n",
      "Installing collected packages: PyPDF2\n",
      "Successfully installed PyPDF2-3.0.1\n"
     ]
    }
   ],
   "source": [
    "!pip install PyPDF2"
   ]
  },
  {
   "cell_type": "code",
   "execution_count": 4,
   "metadata": {},
   "outputs": [],
   "source": [
    "from PyPDF2 import PdfMerger\n",
    "\n",
    "#Create an instance of PdfFileMerger() class\n",
    "merger = PdfMerger()\n",
    "\n",
    "#Create a list with the file paths\n",
    "pdf_files = ['Belogi_resumen.pdf', \n",
    "             'Certificado_Belogi.pdf']\n",
    "\n",
    "\n",
    "#Iterate over the list of the file paths\n",
    "for pdf_file in pdf_files:\n",
    "    #Append PDF files\n",
    "    merger.append(pdf_file)\n",
    "\n",
    "#Write out the merged PDF file\n",
    "merger.write('CONTIG_BELOGI.pdf')\n",
    "merger.close()"
   ]
  }
 ],
 "metadata": {
  "kernelspec": {
   "display_name": "Python 3",
   "language": "python",
   "name": "python3"
  },
  "language_info": {
   "codemirror_mode": {
    "name": "ipython",
    "version": 3
   },
   "file_extension": ".py",
   "mimetype": "text/x-python",
   "name": "python",
   "nbconvert_exporter": "python",
   "pygments_lexer": "ipython3",
   "version": "3.10.9"
  },
  "orig_nbformat": 4
 },
 "nbformat": 4,
 "nbformat_minor": 2
}
