{
 "cells": [
  {
   "cell_type": "code",
   "execution_count": 2,
   "metadata": {},
   "outputs": [
    {
     "name": "stdout",
     "output_type": "stream",
     "text": [
      "Collecting img2pdf\n",
      "  Using cached img2pdf-0.4.4.tar.gz (97 kB)\n",
      "  Installing build dependencies: started\n",
      "  Installing build dependencies: finished with status 'done'\n",
      "  Getting requirements to build wheel: started\n",
      "  Getting requirements to build wheel: finished with status 'done'\n",
      "  Preparing metadata (pyproject.toml): started\n",
      "  Preparing metadata (pyproject.toml): finished with status 'done'\n",
      "Requirement already satisfied: Pillow in c:\\users\\ignacio\\appdata\\local\\programs\\python\\python37\\lib\\site-packages (from img2pdf) (8.0.1)\n",
      "Collecting pikepdf (from img2pdf)\n",
      "  Downloading pikepdf-6.2.9-cp37-cp37m-win_amd64.whl (3.2 MB)\n",
      "     ---------------------------------------- 3.2/3.2 MB 2.6 MB/s eta 0:00:00\n",
      "Collecting Pillow (from img2pdf)\n",
      "  Downloading Pillow-9.5.0-cp37-cp37m-win_amd64.whl (2.5 MB)\n",
      "     ---------------------------------------- 2.5/2.5 MB 5.6 MB/s eta 0:00:00\n",
      "Collecting deprecation (from pikepdf->img2pdf)\n",
      "  Using cached deprecation-2.1.0-py2.py3-none-any.whl (11 kB)\n",
      "Collecting lxml>=4.8 (from pikepdf->img2pdf)\n",
      "  Downloading lxml-4.9.2-cp37-cp37m-win_amd64.whl (3.8 MB)\n",
      "     ---------------------------------------- 3.8/3.8 MB 6.5 MB/s eta 0:00:00\n",
      "Requirement already satisfied: packaging in c:\\users\\ignacio\\appdata\\local\\programs\\python\\python37\\lib\\site-packages (from pikepdf->img2pdf) (20.8)\n",
      "Collecting importlib-metadata>=4 (from pikepdf->img2pdf)\n",
      "  Using cached importlib_metadata-6.6.0-py3-none-any.whl (22 kB)\n",
      "Collecting typing-extensions>=4 (from pikepdf->img2pdf)\n",
      "  Using cached typing_extensions-4.6.3-py3-none-any.whl (31 kB)\n",
      "Requirement already satisfied: zipp>=0.5 in c:\\users\\ignacio\\appdata\\local\\programs\\python\\python37\\lib\\site-packages (from importlib-metadata>=4->pikepdf->img2pdf) (3.4.0)\n",
      "Requirement already satisfied: pyparsing>=2.0.2 in c:\\users\\ignacio\\appdata\\local\\programs\\python\\python37\\lib\\site-packages (from packaging->pikepdf->img2pdf) (2.4.7)\n",
      "Building wheels for collected packages: img2pdf\n",
      "  Building wheel for img2pdf (pyproject.toml): started\n",
      "  Building wheel for img2pdf (pyproject.toml): finished with status 'done'\n",
      "  Created wheel for img2pdf: filename=img2pdf-0.4.4-py3-none-any.whl size=44921 sha256=80da8289a72a5f3d0f7d729c8d27168c6d850264927746351ab9a4085a81121a\n",
      "  Stored in directory: c:\\users\\ignacio\\appdata\\local\\pip\\cache\\wheels\\d2\\a7\\53\\9983aef9861f91881984e08f376e3119bdfeeecf55bd36e585\n",
      "Successfully built img2pdf\n",
      "Installing collected packages: typing-extensions, Pillow, lxml, importlib-metadata, deprecation, pikepdf, img2pdf\n",
      "  Attempting uninstall: typing-extensions\n",
      "    Found existing installation: typing-extensions 3.7.4.3\n",
      "    Uninstalling typing-extensions-3.7.4.3:\n",
      "      Successfully uninstalled typing-extensions-3.7.4.3\n",
      "  Attempting uninstall: Pillow\n",
      "    Found existing installation: Pillow 8.0.1\n",
      "    Uninstalling Pillow-8.0.1:\n",
      "      Successfully uninstalled Pillow-8.0.1\n",
      "  Attempting uninstall: importlib-metadata\n",
      "    Found existing installation: importlib-metadata 3.3.0\n",
      "    Uninstalling importlib-metadata-3.3.0:\n",
      "      Successfully uninstalled importlib-metadata-3.3.0\n",
      "Successfully installed Pillow-9.5.0 deprecation-2.1.0 img2pdf-0.4.4 importlib-metadata-6.6.0 lxml-4.9.2 pikepdf-6.2.9 typing-extensions-4.6.3\n"
     ]
    }
   ],
   "source": [
    "!pip install img2pdf"
   ]
  },
  {
   "cell_type": "code",
   "execution_count": 5,
   "metadata": {},
   "outputs": [
    {
     "name": "stdout",
     "output_type": "stream",
     "text": [
      "Successfully made pdf file\n"
     ]
    }
   ],
   "source": [
    "# Python3 program to convert image to pdf\n",
    "# using img2pdf library\n",
    "\n",
    "# importing necessary libraries\n",
    "import img2pdf\n",
    "from PIL import Image\n",
    "import os\n",
    "\n",
    "# storing image path\n",
    "img_path = r\"C:\\Users\\Ignacio\\Dropbox\\Proyectos Ignacio\\2022.10 - Inscripción DEU\\BelogiMascialino_DNI_dorso.jpeg\"\n",
    "\n",
    "# storing pdf path\n",
    "pdf_path = r\"C:\\Users\\Ignacio\\Dropbox\\Proyectos Ignacio\\2022.10 - Inscripción DEU\\BelogiMascialino_DNI_dorso.pdf\"\n",
    "\n",
    "# opening image\n",
    "image = Image.open(img_path)\n",
    "\n",
    "# converting into chunks using img2pdf\n",
    "pdf_bytes = img2pdf.convert(image.filename)\n",
    "\n",
    "# opening or creating pdf file\n",
    "file = open(pdf_path, \"wb\")\n",
    "\n",
    "# writing pdf files with chunks\n",
    "file.write(pdf_bytes)\n",
    "\n",
    "# closing image file\n",
    "image.close()\n",
    "\n",
    "# closing pdf file\n",
    "file.close()\n",
    "\n",
    "# output\n",
    "print(\"Successfully made pdf file\")\n"
   ]
  },
  {
   "cell_type": "code",
   "execution_count": null,
   "metadata": {},
   "outputs": [],
   "source": []
  }
 ],
 "metadata": {
  "kernelspec": {
   "display_name": "sube_od",
   "language": "python",
   "name": "python3"
  },
  "language_info": {
   "codemirror_mode": {
    "name": "ipython",
    "version": 3
   },
   "file_extension": ".py",
   "mimetype": "text/x-python",
   "name": "python",
   "nbconvert_exporter": "python",
   "pygments_lexer": "ipython3",
   "version": "3.7.9"
  },
  "orig_nbformat": 4
 },
 "nbformat": 4,
 "nbformat_minor": 2
}
