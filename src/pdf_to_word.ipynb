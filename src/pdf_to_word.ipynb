{
 "cells": [
  {
   "cell_type": "code",
   "execution_count": 1,
   "metadata": {},
   "outputs": [
    {
     "name": "stdout",
     "output_type": "stream",
     "text": [
      "Collecting pdf2docx"
     ]
    },
    {
     "name": "stderr",
     "output_type": "stream",
     "text": [
      "WARNING: You are using pip version 22.0.4; however, version 23.1.2 is available.\n",
      "You should consider upgrading via the 'C:\\Users\\Ignacio\\AppData\\Local\\Microsoft\\WindowsApps\\PythonSoftwareFoundation.Python.3.9_qbz5n2kfra8p0\\python.exe -m pip install --upgrade pip' command.\n"
     ]
    },
    {
     "name": "stdout",
     "output_type": "stream",
     "text": [
      "\n",
      "  Downloading pdf2docx-0.5.6-py3-none-any.whl (148 kB)\n",
      "     ------------------------------------ 148.4/148.4 KB 680.4 kB/s eta 0:00:00\n",
      "Collecting python-docx>=0.8.10\n",
      "  Downloading python-docx-0.8.11.tar.gz (5.6 MB)\n",
      "     ---------------------------------------- 5.6/5.6 MB 5.6 MB/s eta 0:00:00\n",
      "  Preparing metadata (setup.py): started\n",
      "  Preparing metadata (setup.py): finished with status 'done'\n",
      "Collecting opencv-python>=4.5\n",
      "  Downloading opencv_python-4.8.0.74-cp37-abi3-win_amd64.whl (38.1 MB)\n",
      "     --------------------------------------- 38.1/38.1 MB 14.2 MB/s eta 0:00:00\n",
      "Collecting fire>=0.3.0\n",
      "  Downloading fire-0.5.0.tar.gz (88 kB)\n",
      "     ---------------------------------------- 88.3/88.3 KB 1.7 MB/s eta 0:00:00\n",
      "  Preparing metadata (setup.py): started\n",
      "  Preparing metadata (setup.py): finished with status 'done'\n",
      "Collecting PyMuPDF>=1.19.0\n",
      "  Downloading PyMuPDF-1.22.5-cp39-cp39-win_amd64.whl (11.8 MB)\n",
      "     --------------------------------------- 11.8/11.8 MB 17.2 MB/s eta 0:00:00\n",
      "Collecting fonttools>=4.24.0\n",
      "  Downloading fonttools-4.40.0-cp39-cp39-win_amd64.whl (2.0 MB)\n",
      "     ---------------------------------------- 2.0/2.0 MB 13.9 MB/s eta 0:00:00\n",
      "Collecting numpy>=1.17.2\n",
      "  Downloading numpy-1.25.0-cp39-cp39-win_amd64.whl (15.1 MB)\n",
      "     --------------------------------------- 15.1/15.1 MB 16.8 MB/s eta 0:00:00\n",
      "Requirement already satisfied: six in c:\\users\\ignacio\\appdata\\local\\packages\\pythonsoftwarefoundation.python.3.9_qbz5n2kfra8p0\\localcache\\local-packages\\python39\\site-packages (from fire>=0.3.0->pdf2docx) (1.16.0)\n",
      "Collecting termcolor\n",
      "  Downloading termcolor-2.3.0-py3-none-any.whl (6.9 kB)\n",
      "Collecting lxml>=2.3.2\n",
      "  Using cached lxml-4.9.2-cp39-cp39-win_amd64.whl (3.9 MB)\n",
      "Using legacy 'setup.py install' for fire, since package 'wheel' is not installed.\n",
      "Using legacy 'setup.py install' for python-docx, since package 'wheel' is not installed.\n",
      "Installing collected packages: termcolor, PyMuPDF, numpy, lxml, fonttools, python-docx, opencv-python, fire, pdf2docx\n",
      "  Running setup.py install for python-docx: started\n",
      "  Running setup.py install for python-docx: finished with status 'done'\n",
      "  Running setup.py install for fire: started\n",
      "  Running setup.py install for fire: finished with status 'done'\n",
      "Successfully installed PyMuPDF-1.22.5 fire-0.5.0 fonttools-4.40.0 lxml-4.9.2 numpy-1.25.0 opencv-python-4.8.0.74 pdf2docx-0.5.6 python-docx-0.8.11 termcolor-2.3.0\n"
     ]
    }
   ],
   "source": [
    "!pip install pdf2docx"
   ]
  },
  {
   "cell_type": "code",
   "execution_count": 4,
   "metadata": {},
   "outputs": [
    {
     "name": "stderr",
     "output_type": "stream",
     "text": [
      "[INFO] Start to convert C:\\Users\\Ignacio\\Downloads\\Informe Bautista Cuesta - periodo marzo - julio 2023.pdf\n",
      "[INFO] \u001b[1;36m[1/4] Opening document...\u001b[0m\n",
      "[INFO] \u001b[1;36m[2/4] Analyzing document...\u001b[0m\n",
      "[INFO] \u001b[1;36m[3/4] Parsing pages...\u001b[0m\n",
      "[INFO] (1/5) Page 1\n",
      "[INFO] (2/5) Page 2\n",
      "[INFO] (3/5) Page 3\n",
      "[INFO] (4/5) Page 4\n",
      "[INFO] (5/5) Page 5\n",
      "[INFO] \u001b[1;36m[4/4] Creating pages...\u001b[0m\n",
      "[INFO] (1/5) Page 1\n",
      "[INFO] (2/5) Page 2\n",
      "[INFO] (3/5) Page 3\n",
      "[INFO] (4/5) Page 4\n",
      "[INFO] (5/5) Page 5\n",
      "[INFO] Terminated in 0.97s.\n"
     ]
    }
   ],
   "source": [
    "from pdf2docx import Converter\n",
    "pdf_file = r'C:\\Users\\Ignacio\\Downloads\\Informe Bautista Cuesta - periodo marzo - julio 2023.pdf'\n",
    "docx_file = 'Informe Bautista Cuesta - periodo marzo - julio 2023.docx'\n",
    "\n",
    "cv = Converter(pdf_file)\n",
    "cv.convert(docx_file)\n",
    "cv.close()"
   ]
  }
 ],
 "metadata": {
  "kernelspec": {
   "display_name": "Python 3",
   "language": "python",
   "name": "python3"
  },
  "language_info": {
   "codemirror_mode": {
    "name": "ipython",
    "version": 3
   },
   "file_extension": ".py",
   "mimetype": "text/x-python",
   "name": "python",
   "nbconvert_exporter": "python",
   "pygments_lexer": "ipython3",
   "version": "3.9.13"
  },
  "orig_nbformat": 4
 },
 "nbformat": 4,
 "nbformat_minor": 2
}
